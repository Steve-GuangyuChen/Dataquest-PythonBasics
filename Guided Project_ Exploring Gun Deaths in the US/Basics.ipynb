{
 "cells": [
  {
   "cell_type": "code",
   "execution_count": 3,
   "metadata": {
    "collapsed": true
   },
   "outputs": [
    {
     "name": "stdout",
     "output_type": "stream",
     "text": [
      "[['', 'year', 'month', 'intent', 'police', 'sex', 'age', 'race', 'hispanic', 'place', 'education'], ['1', '2012', '01', 'Suicide', '0', 'M', '34', 'Asian/Pacific Islander', '100', 'Home', '4'], ['2', '2012', '01', 'Suicide', '0', 'F', '21', 'White', '100', 'Street', '3'], ['3', '2012', '01', 'Suicide', '0', 'M', '60', 'White', '100', 'Other specified', '4'], ['4', '2012', '02', 'Suicide', '0', 'M', '64', 'White', '100', 'Home', '4']]\n"
     ]
    }
   ],
   "source": [
    "import csv\n",
    "f = open(\"guns.csv\", \"r\")\n",
    "file = csv.reader(f)\n",
    "data = list(file)\n",
    "print(data[0:5])"
   ]
  },
  {
   "cell_type": "code",
   "execution_count": 4,
   "metadata": {
    "collapsed": true
   },
   "outputs": [
    {
     "name": "stdout",
     "output_type": "stream",
     "text": [
      "['', 'year', 'month', 'intent', 'police', 'sex', 'age', 'race', 'hispanic', 'place', 'education']\n",
      "[['1', '2012', '01', 'Suicide', '0', 'M', '34', 'Asian/Pacific Islander', '100', 'Home', '4'], ['2', '2012', '01', 'Suicide', '0', 'F', '21', 'White', '100', 'Street', '3'], ['3', '2012', '01', 'Suicide', '0', 'M', '60', 'White', '100', 'Other specified', '4'], ['4', '2012', '02', 'Suicide', '0', 'M', '64', 'White', '100', 'Home', '4'], ['5', '2012', '02', 'Suicide', '0', 'M', '31', 'White', '100', 'Other specified', '2']]\n"
     ]
    }
   ],
   "source": [
    "headers = data[0]\n",
    "data = data[1:]\n",
    "print(headers)\n",
    "print(data[0:5])"
   ]
  },
  {
   "cell_type": "code",
   "execution_count": 5,
   "metadata": {
    "collapsed": true
   },
   "outputs": [
    {
     "name": "stdout",
     "output_type": "stream",
     "text": [
      "{'2012': 33563, '2013': 33636, '2014': 33599}\n"
     ]
    },
    {
     "data": {
      "text/plain": [
       "<function print>"
      ]
     },
     "execution_count": 5,
     "metadata": {},
     "output_type": "execute_result"
    }
   ],
   "source": [
    "years = []\n",
    "for row in data:\n",
    "    year = row[1]\n",
    "    years.append(year)\n",
    "year_counts = {}\n",
    "for key in years:\n",
    "    if key not in year_counts:\n",
    "        year_counts[key] = 1\n",
    "    else:\n",
    "        year_counts[key] = year_counts[key] + 1\n",
    "print(year_counts)\n",
    "print\n"
   ]
  },
  {
   "cell_type": "code",
   "execution_count": 6,
   "metadata": {
    "collapsed": true
   },
   "outputs": [
    {
     "name": "stdout",
     "output_type": "stream",
     "text": [
      "{datetime.datetime(2012, 3, 1, 0, 0): 1, datetime.datetime(2012, 12, 1, 0, 0): 1, datetime.datetime(2014, 6, 1, 0, 0): 1, datetime.datetime(2013, 7, 1, 0, 0): 1, datetime.datetime(2013, 3, 1, 0, 0): 1, datetime.datetime(2014, 10, 1, 0, 0): 1, datetime.datetime(2014, 12, 1, 0, 0): 1, datetime.datetime(2014, 1, 1, 0, 0): 1, datetime.datetime(2014, 8, 1, 0, 0): 1, datetime.datetime(2014, 7, 1, 0, 0): 1, datetime.datetime(2014, 3, 1, 0, 0): 1, datetime.datetime(2012, 7, 1, 0, 0): 1, datetime.datetime(2012, 1, 1, 0, 0): 1, datetime.datetime(2013, 4, 1, 0, 0): 1, datetime.datetime(2012, 11, 1, 0, 0): 1, datetime.datetime(2014, 9, 1, 0, 0): 1, datetime.datetime(2013, 5, 1, 0, 0): 1, datetime.datetime(2012, 4, 1, 0, 0): 1, datetime.datetime(2012, 2, 1, 0, 0): 1, datetime.datetime(2012, 10, 1, 0, 0): 1, datetime.datetime(2012, 5, 1, 0, 0): 1, datetime.datetime(2013, 2, 1, 0, 0): 1, datetime.datetime(2012, 8, 1, 0, 0): 1, datetime.datetime(2013, 1, 1, 0, 0): 1, datetime.datetime(2013, 8, 1, 0, 0): 1, datetime.datetime(2014, 5, 1, 0, 0): 1, datetime.datetime(2014, 2, 1, 0, 0): 1, datetime.datetime(2014, 4, 1, 0, 0): 1, datetime.datetime(2013, 10, 1, 0, 0): 1, datetime.datetime(2013, 12, 1, 0, 0): 1, datetime.datetime(2013, 11, 1, 0, 0): 1, datetime.datetime(2014, 11, 1, 0, 0): 1, datetime.datetime(2013, 6, 1, 0, 0): 1, datetime.datetime(2012, 6, 1, 0, 0): 1, datetime.datetime(2012, 9, 1, 0, 0): 1, datetime.datetime(2013, 9, 1, 0, 0): 1}\n"
     ]
    }
   ],
   "source": [
    "import datetime\n",
    "dates = [datetime.datetime(year = int(row[1]), month = int(row[2]), day = 1) for row in data]\n",
    "dates[0:5]\n",
    "\n",
    "date_counts = {}\n",
    "for key in dates:\n",
    "    if key not in year_counts:\n",
    "        date_counts[key] = 1\n",
    "    else:\n",
    "        date_counts[key] = date_counts[key] + 1\n",
    "print(date_counts)\n"
   ]
  },
  {
   "cell_type": "code",
   "execution_count": 7,
   "metadata": {
    "collapsed": true
   },
   "outputs": [
    {
     "name": "stdout",
     "output_type": "stream",
     "text": [
      "{'F': 14449, 'M': 86349}\n",
      "{'Hispanic': 9022, 'Native American/Native Alaskan': 917, 'Asian/Pacific Islander': 1326, 'Black': 23296, 'White': 66237}\n"
     ]
    }
   ],
   "source": [
    "sex_list = []\n",
    "for row in data:\n",
    "    sex_list.append(row[5])\n",
    "\n",
    "sex_counts = {}\n",
    "for key in sex_list:\n",
    "    if key not in sex_counts:\n",
    "        sex_counts[key] = 1\n",
    "    else:\n",
    "        sex_counts[key] += 1\n",
    "\n",
    "race_list = []\n",
    "for row in data:\n",
    "    race_list.append(row[7])\n",
    "\n",
    "race_counts = {}\n",
    "for key in race_list:\n",
    "    if key not in race_counts:\n",
    "        race_counts[key] = 1\n",
    "    else:\n",
    "        race_counts[key] += 1\n",
    "print(sex_counts)\n",
    "print(race_counts)"
   ]
  },
  {
   "cell_type": "markdown",
   "metadata": {},
   "source": [
    "From the analysis of gender and race, we can see the following patterns. (1) Male is four times more likely to be the victims of the gun violence compared to female. (2) The majority of the victims are white, which may not be what the public assume. (2) Further Examination: As a lot of the death are due to suicides, we may separate those cases in future studies."
   ]
  },
  {
   "cell_type": "code",
   "execution_count": 8,
   "metadata": {
    "collapsed": true
   },
   "outputs": [
    {
     "name": "stdout",
     "output_type": "stream",
     "text": [
      "{'White': 33.56849303419181, 'Native American/Native Alaskan': 24.521955573811088, 'Asian/Pacific Islander': 8.374309664161762, 'Hispanic': 20.220491210910907, 'Black': 57.8773477735196}\n"
     ]
    }
   ],
   "source": [
    "import csv\n",
    "f = open(\"census.csv\", \"r\")\n",
    "file = csv.reader(f)\n",
    "census = list(file)\n",
    "census\n",
    "\n",
    "mapping = {\"Asian/Pacific Islander\":15834141, \"Black\":40250635, \"Native American/Native Alaskan\":3739506, \"Hispanic\":44618105, \"White\":197318956}\n",
    "race_per_hundredk = {}\n",
    "for key in race_counts:\n",
    "    race_per_hundredk[key] = race_counts[key]/mapping[key]*100000\n",
    "print(race_per_hundredk)\n",
    "    \n"
   ]
  },
  {
   "cell_type": "code",
   "execution_count": 16,
   "metadata": {
    "collapsed": false
   },
   "outputs": [
    {
     "name": "stdout",
     "output_type": "stream",
     "text": [
      "{'Hispanic': 5634, 'Native American/Native Alaskan': 326, 'Asian/Pacific Islander': 559, 'Black': 19510, 'White': 9147}\n",
      "{'White': 4.6356417981453335, 'Native American/Native Alaskan': 8.717729026240365, 'Asian/Pacific Islander': 3.530346230970155, 'Hispanic': 12.627161104219914, 'Black': 48.471284987180944}\n"
     ]
    }
   ],
   "source": [
    "homicide_race_counts = {}\n",
    "intents = [row[3] for row in data]\n",
    "races = [row[7] for row in data]\n",
    "for i, race in enumerate(races):\n",
    "    if intents[i] == \"Homicide\":\n",
    "        if race not in homicide_race_counts:\n",
    "            homicide_race_counts[race] = 1\n",
    "        else:\n",
    "            homicide_race_counts[race] = homicide_race_counts[race] + 1\n",
    "print(homicide_race_counts)\n",
    "\n",
    "homi_race_per = {}\n",
    "for key in homicide_race_counts:\n",
    "    homi_race_per[key] = homicide_race_counts[key]/mapping[key]*100000\n",
    "print(homi_race_per)"
   ]
  },
  {
   "cell_type": "markdown",
   "metadata": {},
   "source": [
    "The data analysis lead to a different result after we take the demographic information into considerationo. From the output, we can see that Black Americans have a significantly higher rate of being the victim of homicide "
   ]
  }
 ],
 "metadata": {
  "kernelspec": {
   "display_name": "Python 3",
   "language": "python",
   "name": "python3"
  },
  "language_info": {
   "codemirror_mode": {
    "name": "ipython",
    "version": 3
   },
   "file_extension": ".py",
   "mimetype": "text/x-python",
   "name": "python",
   "nbconvert_exporter": "python",
   "pygments_lexer": "ipython3",
   "version": "3.4.3"
  }
 },
 "nbformat": 4,
 "nbformat_minor": 0
}
